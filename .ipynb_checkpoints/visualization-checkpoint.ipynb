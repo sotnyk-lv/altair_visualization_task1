{
 "cells": [
  {
   "cell_type": "code",
   "execution_count": 14,
   "metadata": {},
   "outputs": [],
   "source": [
    "import matplotlib.pyplot as plt\n",
    "import matplotlib.image as mpimg"
   ]
  },
  {
   "cell_type": "code",
   "execution_count": 16,
   "metadata": {},
   "outputs": [
    {
     "data": {
      "text/plain": [
       "<matplotlib.image.AxesImage at 0x21998e9e2c0>"
      ]
     },
     "execution_count": 16,
     "metadata": {},
     "output_type": "execute_result"
    },
    {
     "data": {
      "image/png": "[encoded data removed]",
      "text/plain": [
       "<Figure size 432x288 with 1 Axes>"
      ]
     },
     "metadata": {
      "needs_background": "light"
     },
     "output_type": "display_data"
    }
   ],
   "source": [
    "img = mpimg.imread('nyt.png')\n",
    "plt.imshow(img)\n"
   ]
  },
  {
   "cell_type": "code",
   "execution_count": 1,
   "metadata": {},
   "outputs": [],
   "source": [
    "from PIL import Image                                                                                \n",
    "img = Image.open('test.png')\n",
    "img.show() "
   ]
  },
  {
   "cell_type": "code",
   "execution_count": null,
   "metadata": {},
   "outputs": [],
   "source": [
    "import pandas"
   ]
  },
  {
   "cell_type": "code",
   "execution_count": 2,
   "metadata": {},
   "outputs": [
    {
     "data": {
      "text/html": [
       "<div>\n",
       "<style scoped>\n",
       "    .dataframe tbody tr th:only-of-type {\n",
       "        vertical-align: middle;\n",
       "    }\n",
       "\n",
       "    .dataframe tbody tr th {\n",
       "        vertical-align: top;\n",
       "    }\n",
       "\n",
       "    .dataframe thead th {\n",
       "        text-align: right;\n",
       "    }\n",
       "</style>\n",
       "<table border=\"1\" class=\"dataframe\">\n",
       "  <thead>\n",
       "    <tr style=\"text-align: right;\">\n",
       "      <th></th>\n",
       "      <th>year</th>\n",
       "      <th>temp</th>\n",
       "    </tr>\n",
       "  </thead>\n",
       "  <tbody>\n",
       "    <tr>\n",
       "      <th>0</th>\n",
       "      <td>1880</td>\n",
       "      <td>-0.19</td>\n",
       "    </tr>\n",
       "    <tr>\n",
       "      <th>1</th>\n",
       "      <td>1881</td>\n",
       "      <td>-0.10</td>\n",
       "    </tr>\n",
       "    <tr>\n",
       "      <th>2</th>\n",
       "      <td>1882</td>\n",
       "      <td>-0.10</td>\n",
       "    </tr>\n",
       "    <tr>\n",
       "      <th>3</th>\n",
       "      <td>1883</td>\n",
       "      <td>-0.19</td>\n",
       "    </tr>\n",
       "    <tr>\n",
       "      <th>4</th>\n",
       "      <td>1884</td>\n",
       "      <td>-0.29</td>\n",
       "    </tr>\n",
       "    <tr>\n",
       "      <th>...</th>\n",
       "      <td>...</td>\n",
       "      <td>...</td>\n",
       "    </tr>\n",
       "    <tr>\n",
       "      <th>133</th>\n",
       "      <td>2013</td>\n",
       "      <td>0.64</td>\n",
       "    </tr>\n",
       "    <tr>\n",
       "      <th>134</th>\n",
       "      <td>2014</td>\n",
       "      <td>0.73</td>\n",
       "    </tr>\n",
       "    <tr>\n",
       "      <th>135</th>\n",
       "      <td>2015</td>\n",
       "      <td>0.86</td>\n",
       "    </tr>\n",
       "    <tr>\n",
       "      <th>136</th>\n",
       "      <td>2016</td>\n",
       "      <td>0.99</td>\n",
       "    </tr>\n",
       "    <tr>\n",
       "      <th>137</th>\n",
       "      <td>2017</td>\n",
       "      <td>0.90</td>\n",
       "    </tr>\n",
       "  </tbody>\n",
       "</table>\n",
       "<p>138 rows × 2 columns</p>\n",
       "</div>"
      ],
      "text/plain": [
       "     year  temp\n",
       "0    1880 -0.19\n",
       "1    1881 -0.10\n",
       "2    1882 -0.10\n",
       "3    1883 -0.19\n",
       "4    1884 -0.29\n",
       "..    ...   ...\n",
       "133  2013  0.64\n",
       "134  2014  0.73\n",
       "135  2015  0.86\n",
       "136  2016  0.99\n",
       "137  2017  0.90\n",
       "\n",
       "[138 rows x 2 columns]"
      ]
     },
     "execution_count": 2,
     "metadata": {},
     "output_type": "execute_result"
    }
   ],
   "source": [
    "temps = pandas.read_csv(\"GLB.Ts_dSST.csv\", header=1, usecols=['Year', 'J-D'])\n",
    "temps.rename(columns={\"Year\": \"year\", \"J-D\": \"temp\"}, inplace=True)\n",
    "temps.dropna()"
   ]
  },
  {
   "cell_type": "code",
   "execution_count": 3,
   "metadata": {},
   "outputs": [],
   "source": [
    "# temps.temp = temps.temp * 5/9"
   ]
  },
  {
   "cell_type": "code",
   "execution_count": 4,
   "metadata": {},
   "outputs": [
    {
     "data": {
      "text/html": [
       "<div>\n",
       "<style scoped>\n",
       "    .dataframe tbody tr th:only-of-type {\n",
       "        vertical-align: middle;\n",
       "    }\n",
       "\n",
       "    .dataframe tbody tr th {\n",
       "        vertical-align: top;\n",
       "    }\n",
       "\n",
       "    .dataframe thead th {\n",
       "        text-align: right;\n",
       "    }\n",
       "</style>\n",
       "<table border=\"1\" class=\"dataframe\">\n",
       "  <thead>\n",
       "    <tr style=\"text-align: right;\">\n",
       "      <th></th>\n",
       "      <th>year</th>\n",
       "      <th>temp</th>\n",
       "    </tr>\n",
       "  </thead>\n",
       "  <tbody>\n",
       "    <tr>\n",
       "      <th>0</th>\n",
       "      <td>1880</td>\n",
       "      <td>-0.19</td>\n",
       "    </tr>\n",
       "    <tr>\n",
       "      <th>1</th>\n",
       "      <td>1881</td>\n",
       "      <td>-0.10</td>\n",
       "    </tr>\n",
       "    <tr>\n",
       "      <th>2</th>\n",
       "      <td>1882</td>\n",
       "      <td>-0.10</td>\n",
       "    </tr>\n",
       "    <tr>\n",
       "      <th>3</th>\n",
       "      <td>1883</td>\n",
       "      <td>-0.19</td>\n",
       "    </tr>\n",
       "    <tr>\n",
       "      <th>4</th>\n",
       "      <td>1884</td>\n",
       "      <td>-0.29</td>\n",
       "    </tr>\n",
       "  </tbody>\n",
       "</table>\n",
       "</div>"
      ],
      "text/plain": [
       "   year  temp\n",
       "0  1880 -0.19\n",
       "1  1881 -0.10\n",
       "2  1882 -0.10\n",
       "3  1883 -0.19\n",
       "4  1884 -0.29"
      ]
     },
     "execution_count": 4,
     "metadata": {},
     "output_type": "execute_result"
    }
   ],
   "source": [
    "temps.head()"
   ]
  },
  {
   "cell_type": "code",
   "execution_count": 5,
   "metadata": {},
   "outputs": [],
   "source": [
    "temps['temp'] -= temps['temp'].head(20).mean()"
   ]
  },
  {
   "cell_type": "code",
   "execution_count": 6,
   "metadata": {},
   "outputs": [
    {
     "data": {
      "text/plain": [
       "-1.457167719820518e-17"
      ]
     },
     "execution_count": 6,
     "metadata": {},
     "output_type": "execute_result"
    }
   ],
   "source": [
    "temps['temp'].head(20).mean()"
   ]
  },
  {
   "cell_type": "code",
   "execution_count": 7,
   "metadata": {},
   "outputs": [],
   "source": [
    "import altair as alt"
   ]
  },
  {
   "cell_type": "code",
   "execution_count": 8,
   "metadata": {},
   "outputs": [
    {
     "data": {
      "text/html": [
       "\n",
       "<div id=\"altair-viz-a7c0e2ece85c4e6ca890ae00d3643a98\"></div>\n",
       "<script type=\"text/javascript\">\n",
       "  (function(spec, embedOpt){\n",
       "    let outputDiv = document.currentScript.previousElementSibling;\n",
       "    if (outputDiv.id !== \"altair-viz-a7c0e2ece85c4e6ca890ae00d3643a98\") {\n",
       "      outputDiv = document.getElementById(\"altair-viz-a7c0e2ece85c4e6ca890ae00d3643a98\");\n",
       "    }\n",
       "    const paths = {\n",
       "      \"vega\": \"https://cdn.jsdelivr.net/npm//vega@5?noext\",\n",
       "      \"vega-lib\": \"https://cdn.jsdelivr.net/npm//vega-lib?noext\",\n",
       "      \"vega-lite\": \"https://cdn.jsdelivr.net/npm//vega-lite@4.8.1?noext\",\n",
       "      \"vega-embed\": \"https://cdn.jsdelivr.net/npm//vega-embed@6?noext\",\n",
       "    };\n",
       "\n",
       "    function loadScript(lib) {\n",
       "      return new Promise(function(resolve, reject) {\n",
       "        var s = document.createElement('script');\n",
       "        s.src = paths[lib];\n",
       "        s.async = true;\n",
       "        s.onload = () => resolve(paths[lib]);\n",
       "        s.onerror = () => reject(`Error loading script: ${paths[lib]}`);\n",
       "        document.getElementsByTagName(\"head\")[0].appendChild(s);\n",
       "      });\n",
       "    }\n",
       "\n",
       "    function showError(err) {\n",
       "      outputDiv.innerHTML = `<div class=\"error\" style=\"color:red;\">${err}</div>`;\n",
       "      throw err;\n",
       "    }\n",
       "\n",
       "    function displayChart(vegaEmbed) {\n",
       "      vegaEmbed(outputDiv, spec, embedOpt)\n",
       "        .catch(err => showError(`Javascript Error: ${err.message}<br>This usually means there's a typo in your chart specification. See the javascript console for the full traceback.`));\n",
       "    }\n",
       "\n",
       "    if(typeof define === \"function\" && define.amd) {\n",
       "      requirejs.config({paths});\n",
       "      require([\"vega-embed\"], displayChart, err => showError(`Error loading script: ${err.message}`));\n",
       "    } else if (typeof vegaEmbed === \"function\") {\n",
       "      displayChart(vegaEmbed);\n",
       "    } else {\n",
       "      loadScript(\"vega\")\n",
       "        .then(() => loadScript(\"vega-lite\"))\n",
       "        .then(() => loadScript(\"vega-embed\"))\n",
       "        .catch(showError)\n",
       "        .then(() => displayChart(vegaEmbed));\n",
       "    }\n",
       "  })({\"config\": {\"view\": {\"continuousWidth\": 400, \"continuousHeight\": 300}}, \"data\": {\"name\": \"data-e4dbe72ffe2816858e3665ee1ae42132\"}, \"mark\": {\"type\": \"point\", \"color\": \"#00000\", \"fill\": \"#f26c08\"}, \"encoding\": {\"x\": {\"type\": \"quantitative\", \"field\": \"year\", \"scale\": {\"domain\": [1880, 2020]}}, \"y\": {\"type\": \"quantitative\", \"field\": \"temp\", \"scale\": {\"domain\": [-0.5, 1.3]}}}, \"$schema\": \"https://vega.github.io/schema/vega-lite/v4.8.1.json\", \"datasets\": {\"data-e4dbe72ffe2816858e3665ee1ae42132\": [{\"year\": 1880, \"temp\": 0.03849999999999998}, {\"year\": 1881, \"temp\": 0.12849999999999998}, {\"year\": 1882, \"temp\": 0.12849999999999998}, {\"year\": 1883, \"temp\": 0.03849999999999998}, {\"year\": 1884, \"temp\": -0.0615}, {\"year\": 1885, \"temp\": -0.08150000000000002}, {\"year\": 1886, \"temp\": -0.09150000000000003}, {\"year\": 1887, \"temp\": -0.1215}, {\"year\": 1888, \"temp\": 0.04849999999999999}, {\"year\": 1889, \"temp\": 0.11849999999999998}, {\"year\": 1890, \"temp\": -0.14150000000000001}, {\"year\": 1891, \"temp\": -0.01150000000000001}, {\"year\": 1892, \"temp\": -0.04150000000000004}, {\"year\": 1893, \"temp\": -0.09150000000000003}, {\"year\": 1894, \"temp\": -0.09150000000000003}, {\"year\": 1895, \"temp\": 0.00849999999999998}, {\"year\": 1896, \"temp\": 0.11849999999999998}, {\"year\": 1897, \"temp\": 0.10849999999999999}, {\"year\": 1898, \"temp\": -0.051500000000000046}, {\"year\": 1899, \"temp\": 0.04849999999999999}, {\"year\": 1900, \"temp\": 0.13849999999999998}, {\"year\": 1901, \"temp\": 0.07849999999999999}, {\"year\": 1902, \"temp\": -0.07150000000000001}, {\"year\": 1903, \"temp\": -0.16150000000000003}, {\"year\": 1904, \"temp\": -0.2615}, {\"year\": 1905, \"temp\": -0.0615}, {\"year\": 1906, \"temp\": -0.001500000000000029}, {\"year\": 1907, \"temp\": -0.17150000000000004}, {\"year\": 1908, \"temp\": -0.21150000000000002}, {\"year\": 1909, \"temp\": -0.2515}, {\"year\": 1910, \"temp\": -0.21150000000000002}, {\"year\": 1911, \"temp\": -0.2015}, {\"year\": 1912, \"temp\": -0.1315}, {\"year\": 1913, \"temp\": -0.1215}, {\"year\": 1914, \"temp\": 0.06849999999999998}, {\"year\": 1915, \"temp\": 0.10849999999999999}, {\"year\": 1916, \"temp\": -0.10150000000000003}, {\"year\": 1917, \"temp\": -0.2015}, {\"year\": 1918, \"temp\": -0.051500000000000046}, {\"year\": 1919, \"temp\": -0.04150000000000004}, {\"year\": 1920, \"temp\": -0.02150000000000002}, {\"year\": 1921, \"temp\": 0.05849999999999997}, {\"year\": 1922, \"temp\": -0.04150000000000004}, {\"year\": 1923, \"temp\": -0.01150000000000001}, {\"year\": 1924, \"temp\": -0.02150000000000002}, {\"year\": 1925, \"temp\": 0.01849999999999999}, {\"year\": 1926, \"temp\": 0.13849999999999998}, {\"year\": 1927, \"temp\": 0.02849999999999997}, {\"year\": 1928, \"temp\": 0.03849999999999998}, {\"year\": 1929, \"temp\": -0.1215}, {\"year\": 1930, \"temp\": 0.07849999999999999}, {\"year\": 1931, \"temp\": 0.12849999999999998}, {\"year\": 1932, \"temp\": 0.05849999999999997}, {\"year\": 1933, \"temp\": -0.07150000000000001}, {\"year\": 1934, \"temp\": 0.08849999999999997}, {\"year\": 1935, \"temp\": 0.01849999999999999}, {\"year\": 1936, \"temp\": 0.06849999999999998}, {\"year\": 1937, \"temp\": 0.18849999999999997}, {\"year\": 1938, \"temp\": 0.19849999999999998}, {\"year\": 1939, \"temp\": 0.19849999999999998}, {\"year\": 1940, \"temp\": 0.33849999999999997}, {\"year\": 1941, \"temp\": 0.4085}, {\"year\": 1942, \"temp\": 0.27849999999999997}, {\"year\": 1943, \"temp\": 0.2985}, {\"year\": 1944, \"temp\": 0.4385}, {\"year\": 1945, \"temp\": 0.3185}, {\"year\": 1946, \"temp\": 0.15849999999999997}, {\"year\": 1947, \"temp\": 0.18849999999999997}, {\"year\": 1948, \"temp\": 0.11849999999999998}, {\"year\": 1949, \"temp\": 0.11849999999999998}, {\"year\": 1950, \"temp\": 0.03849999999999998}, {\"year\": 1951, \"temp\": 0.15849999999999997}, {\"year\": 1952, \"temp\": 0.2385}, {\"year\": 1953, \"temp\": 0.2985}, {\"year\": 1954, \"temp\": 0.07849999999999999}, {\"year\": 1955, \"temp\": 0.08849999999999997}, {\"year\": 1956, \"temp\": 0.02849999999999997}, {\"year\": 1957, \"temp\": 0.26849999999999996}, {\"year\": 1958, \"temp\": 0.2985}, {\"year\": 1959, \"temp\": 0.25849999999999995}, {\"year\": 1960, \"temp\": 0.2085}, {\"year\": 1961, \"temp\": 0.2885}, {\"year\": 1962, \"temp\": 0.26849999999999996}, {\"year\": 1963, \"temp\": 0.2985}, {\"year\": 1964, \"temp\": 0.02849999999999997}, {\"year\": 1965, \"temp\": 0.12849999999999998}, {\"year\": 1966, \"temp\": 0.1785}, {\"year\": 1967, \"temp\": 0.2085}, {\"year\": 1968, \"temp\": 0.15849999999999997}, {\"year\": 1969, \"temp\": 0.2985}, {\"year\": 1970, \"temp\": 0.25849999999999995}, {\"year\": 1971, \"temp\": 0.13849999999999998}, {\"year\": 1972, \"temp\": 0.2385}, {\"year\": 1973, \"temp\": 0.38849999999999996}, {\"year\": 1974, \"temp\": 0.14849999999999997}, {\"year\": 1975, \"temp\": 0.2085}, {\"year\": 1976, \"temp\": 0.11849999999999998}, {\"year\": 1977, \"temp\": 0.39849999999999997}, {\"year\": 1978, \"temp\": 0.2885}, {\"year\": 1979, \"temp\": 0.38849999999999996}, {\"year\": 1980, \"temp\": 0.4985}, {\"year\": 1981, \"temp\": 0.5585}, {\"year\": 1982, \"temp\": 0.3585}, {\"year\": 1983, \"temp\": 0.5385}, {\"year\": 1984, \"temp\": 0.38849999999999996}, {\"year\": 1985, \"temp\": 0.3485}, {\"year\": 1986, \"temp\": 0.4085}, {\"year\": 1987, \"temp\": 0.5585}, {\"year\": 1988, \"temp\": 0.6385}, {\"year\": 1989, \"temp\": 0.5185}, {\"year\": 1990, \"temp\": 0.6685}, {\"year\": 1991, \"temp\": 0.6385}, {\"year\": 1992, \"temp\": 0.4485}, {\"year\": 1993, \"temp\": 0.46849999999999997}, {\"year\": 1994, \"temp\": 0.5385}, {\"year\": 1995, \"temp\": 0.6685}, {\"year\": 1996, \"temp\": 0.5585}, {\"year\": 1997, \"temp\": 0.6984999999999999}, {\"year\": 1998, \"temp\": 0.8485}, {\"year\": 1999, \"temp\": 0.6285000000000001}, {\"year\": 2000, \"temp\": 0.6285000000000001}, {\"year\": 2001, \"temp\": 0.7685}, {\"year\": 2002, \"temp\": 0.8485}, {\"year\": 2003, \"temp\": 0.8385}, {\"year\": 2004, \"temp\": 0.7585}, {\"year\": 2005, \"temp\": 0.8985000000000001}, {\"year\": 2006, \"temp\": 0.8485}, {\"year\": 2007, \"temp\": 0.8685}, {\"year\": 2008, \"temp\": 0.7484999999999999}, {\"year\": 2009, \"temp\": 0.8585}, {\"year\": 2010, \"temp\": 0.9284999999999999}, {\"year\": 2011, \"temp\": 0.8085}, {\"year\": 2012, \"temp\": 0.8385}, {\"year\": 2013, \"temp\": 0.8685}, {\"year\": 2014, \"temp\": 0.9584999999999999}, {\"year\": 2015, \"temp\": 1.0885}, {\"year\": 2016, \"temp\": 1.2185}, {\"year\": 2017, \"temp\": 1.1285}]}}, {\"mode\": \"vega-lite\"});\n",
       "</script>"
      ],
      "text/plain": [
       "alt.Chart(...)"
      ]
     },
     "execution_count": 8,
     "metadata": {},
     "output_type": "execute_result"
    }
   ],
   "source": [
    "alt.Chart(temps).mark_point(fill=\"#f26c08\",color=\"#00000\").encode(\n",
    "    x = alt.X('year', scale=alt.Scale(domain=[1880, 2020])),\n",
    "    y = alt.Y('temp', scale=alt.Scale(domain=[-0.5, 1.3]))\n",
    ")"
   ]
  },
  {
   "cell_type": "code",
   "execution_count": null,
   "metadata": {},
   "outputs": [],
   "source": []
  }
 ],
 "metadata": {
  "kernelspec": {
   "display_name": "Python 3 (ipykernel)",
   "language": "python",
   "name": "python3"
  },
  "language_info": {
   "codemirror_mode": {
    "name": "ipython",
    "version": 3
   },
   "file_extension": ".py",
   "mimetype": "text/x-python",
   "name": "python",
   "nbconvert_exporter": "python",
   "pygments_lexer": "ipython3",
   "version": "3.10.0"
  }
 },
 "nbformat": 4,
 "nbformat_minor": 4
}
